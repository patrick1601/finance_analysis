{
 "cells": [
  {
   "cell_type": "code",
   "execution_count": 2,
   "metadata": {},
   "outputs": [],
   "source": [
    "# original credit: https://github.com/derekbanas/Python4Finance\n",
    "import numpy as np\n",
    "import pandas as pd\n",
    "import matplotlib.pyplot as plt\n",
    "import matplotlib.dates as mdates\n",
    "%matplotlib inline\n",
    "import datetime as dt\n",
    "import time\n",
    "# In Powershell Prompt : conda install -c conda-forge multitasking\n",
    "# pip install -i https://pypi.anaconda.org/ranaroussi/simple yfinance\n",
    "import yfinance as yf"
   ]
  },
  {
   "cell_type": "markdown",
   "metadata": {},
   "source": [
    "YFinance"
   ]
  },
  {
   "cell_type": "code",
   "execution_count": null,
   "metadata": {},
   "outputs": [],
   "source": [
    "def get_info_on_stock(ticker):\n",
    "    stock = yf.Ticker(ticker)\n",
    "\n",
    "    # Get overview of company\n",
    "    print(stock.info)\n",
    "\n",
    "    # Get historical closing price data\n",
    "    hist = stock.history(period=\"max\")[\"Close\"]\n",
    "    print(hist.head())"
   ]
  }
 ],
 "metadata": {
  "interpreter": {
   "hash": "d73c5c37d1a9da7995feed69879641a58de26fd821e7c814b4d360bb28555255"
  },
  "kernelspec": {
   "display_name": "Python 3.8.12 ('finance_analysis')",
   "language": "python",
   "name": "python3"
  },
  "language_info": {
   "codemirror_mode": {
    "name": "ipython",
    "version": 3
   },
   "file_extension": ".py",
   "mimetype": "text/x-python",
   "name": "python",
   "nbconvert_exporter": "python",
   "pygments_lexer": "ipython3",
   "version": "3.8.12"
  },
  "orig_nbformat": 4
 },
 "nbformat": 4,
 "nbformat_minor": 2
}
